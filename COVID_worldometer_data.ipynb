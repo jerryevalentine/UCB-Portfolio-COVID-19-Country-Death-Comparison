{
 "cells": [
  {
   "cell_type": "code",
   "execution_count": 17,
   "id": "1a010449",
   "metadata": {},
   "outputs": [
    {
     "data": {
      "text/html": [
       "<style>.container { width:75% !important; }</style>"
      ],
      "text/plain": [
       "<IPython.core.display.HTML object>"
      ]
     },
     "metadata": {},
     "output_type": "display_data"
    }
   ],
   "source": [
    "#Increate the size of cells\n",
    "from IPython.display import display, HTML\n",
    "display(HTML(\"<style>.container { width:75% !important; }</style>\"))\n",
    "import pandas as pd"
   ]
  },
  {
   "cell_type": "code",
   "execution_count": 18,
   "id": "e7db8626-8b75-4a62-8859-356c148c3ff0",
   "metadata": {},
   "outputs": [],
   "source": [
    "country_name_1 = 'USA'#Nation trying to analyze\n",
    "country_name_2 = 'Japan'#Comparison Nation\n",
    "\n",
    "c1 = 'USA'\n",
    "c2 = 'Japan'"
   ]
  },
  {
   "cell_type": "code",
   "execution_count": 26,
   "id": "b6bd1cee-18bd-4d97-898c-5d2b5a1f59bc",
   "metadata": {
    "tags": []
   },
   "outputs": [],
   "source": [
    "country_name_1 = 'Japan'#Nation trying to analyze\n",
    "country_name_2 = 'USA'#Comparison Nation\n",
    "\n",
    "c1 = 'Japan'\n",
    "c2 = 'USA'"
   ]
  },
  {
   "cell_type": "code",
   "execution_count": 19,
   "id": "48d2a40f-0af0-4b0b-bd10-92c7a28f3956",
   "metadata": {
    "tags": []
   },
   "outputs": [],
   "source": [
    "df_worldometer_data = pd.read_csv(\"./Resources/worldometer_data_2024_03_30.csv\")"
   ]
  },
  {
   "cell_type": "code",
   "execution_count": 27,
   "id": "37e04ec2-c796-492c-8b7a-053ce0292dd9",
   "metadata": {
    "tags": []
   },
   "outputs": [
    {
     "name": "stdout",
     "output_type": "stream",
     "text": [
      "The nation with the largest total deaths is: USA (1,218,836).\n"
     ]
    }
   ],
   "source": [
    "max_deaths_index = df_worldometer_data['Total_deaths'].idxmax()\n",
    "country_with_max_deaths = df_worldometer_data.loc[max_deaths_index, 'Country']\n",
    "total_deaths = '{:,}'.format(int(df_worldometer_data.loc[max_deaths_index, 'Total_deaths']))\n",
    "print(f\"The nation with the largest total deaths is: {country_with_max_deaths} ({total_deaths}).\")"
   ]
  },
  {
   "cell_type": "code",
   "execution_count": 28,
   "id": "c5c35814-b7c5-4466-88f7-2dfb48f2b5e8",
   "metadata": {
    "tags": []
   },
   "outputs": [
    {
     "name": "stdout",
     "output_type": "stream",
     "text": [
      "The nation with the largest total deaths per million is: Peru: (6,595).\n"
     ]
    }
   ],
   "source": [
    "max_deaths_per_million_index = df_worldometer_data['total_deaths_per_million'].idxmax()\n",
    "country_with_max_deaths_per_million = df_worldometer_data.loc[max_deaths_per_million_index, 'Country']\n",
    "total_deaths_per_million = '{:,}'.format(int(df_worldometer_data.loc[max_deaths_per_million_index, 'total_deaths_per_million']))\n",
    "print(f\"The nation with the largest total deaths per million is: {country_with_max_deaths_per_million}: ({total_deaths_per_million}).\")"
   ]
  },
  {
   "cell_type": "code",
   "execution_count": 29,
   "id": "66ddce1b-bb7b-4c02-aa07-c6d9e22ac3b1",
   "metadata": {
    "tags": []
   },
   "outputs": [
    {
     "name": "stdout",
     "output_type": "stream",
     "text": [
      "Difference in Death Rates between Japan wtih 595.0 and USA with 3640.0 is -3045.0.\n"
     ]
    }
   ],
   "source": [
    "# Calculate the difference in death rates\n",
    "\n",
    "dr1 = df_worldometer_data.loc[df_worldometer_data['Country'] == c1, 'total_deaths_per_million'].iloc[0]\n",
    "dr2 = df_worldometer_data.loc[df_worldometer_data['Country'] == c2, 'total_deaths_per_million'].iloc[0]\n",
    "\n",
    "print(f\"Difference in Death Rates between {c1} wtih {dr1} and {c2} with {dr2} is {dr1 - dr2}.\")"
   ]
  },
  {
   "cell_type": "code",
   "execution_count": 30,
   "id": "8ae49f0d",
   "metadata": {},
   "outputs": [
    {
     "name": "stdout",
     "output_type": "stream",
     "text": [
      "*************Deaths per million *************\n",
      "Japan : Deaths Per Million Country 1 -  595\n",
      "USA : Deaths Per Million Country 2 -  3640\n",
      "*************Total Populoation *************\n",
      "Japan : Population  -  125,584,838.0\n",
      "USA : Population  -  334,805,269.0\n",
      "*************Mean world deaths (all countries)*************\n",
      "The mean deaths is 846.5.\n",
      "********Calculate Japan's death rate using USA's death rare.\n",
      "Deaths per million using  USA 's' death per million:  457,129\n",
      "If  Japan  had the same death rate as  USA , then  Japan  would have lost  457,129  people, instead of  74,694.0\n",
      "If  Japan  had the same death rate as the median death rate of  846.5 , then  Japan  would have lost  106,308  people, instead of  74,694.0\n",
      "******************Comparing Japan total deaths using the world median death rate.**************\n",
      "Japan SAVED 31614.0 compared to the world average across nations.  So, this nation did BETTER than the average nation.\n"
     ]
    }
   ],
   "source": [
    "# Retrieve the death rate per million for country_name_1\n",
    "Deaths_Per_Million_country_name_1 = df_worldometer_data.loc[df_worldometer_data['Country'] == country_name_1, 'total_deaths_per_million'].iloc[0]\n",
    "\n",
    "# Retrieve the death rate per million for country_name_2\n",
    "Deaths_Per_Million_country_name_2 = df_worldometer_data.loc[df_worldometer_data['Country'] == country_name_2, 'total_deaths_per_million'].iloc[0]\n",
    "\n",
    "\n",
    "Total_Deaths_country_name_1 = df_worldometer_data.loc[df_worldometer_data['Country'] == country_name_1, 'Total_deaths'].iloc[0]\n",
    "\n",
    "#This is the population of country 1 in millions.\n",
    "millions_pop_country_name_1 = df_worldometer_data[df_worldometer_data['Country']==country_name_1]['Population'].iloc[0]/1000000\n",
    "\n",
    "#This is the population of country 1 in millions.\n",
    "population_country_name_1 = df_worldometer_data[df_worldometer_data['Country']==country_name_1]['Population'].iloc[0]\n",
    "population_country_name_2 = df_worldometer_data[df_worldometer_data['Country']==country_name_2]['Population'].iloc[0]\n",
    "\n",
    "print('*************Deaths per million *************')\n",
    "print(country_name_1, \": Deaths Per Million Country 1 - \", round(Deaths_Per_Million_country_name_1))\n",
    "print(country_name_2, \": Deaths Per Million Country 2 - \", round(Deaths_Per_Million_country_name_2))\n",
    "\n",
    "print('*************Total Populoation *************')\n",
    "print(country_name_1, \": Population  - \", '{:,}'.format(population_country_name_1))\n",
    "print(country_name_2, \": Population  - \", '{:,}'.format(population_country_name_2))\n",
    "\n",
    "print('*************Mean world deaths (all countries)*************')\n",
    "median_deaths = df_worldometer_data['total_deaths_per_million'].median()\n",
    "print(f'The mean deaths is {median_deaths}.')\n",
    "\n",
    "country_1_deaths_million_1 = '{:,}'.format(round(millions_pop_country_name_1*Deaths_Per_Million_country_name_1))\n",
    "country_1_deaths_million_2 = '{:,}'.format(round(millions_pop_country_name_1*Deaths_Per_Million_country_name_2))\n",
    "print(f\"********Calculate {country_name_1}'s death rate using {country_name_2}'s death rare.\")\n",
    "print(\"Deaths per million using \", country_name_2 , \"'s' death per million: \", country_1_deaths_million_2)\n",
    "\n",
    "predicted_lost = round(millions_pop_country_name_1*Deaths_Per_Million_country_name_2)\n",
    "\n",
    "print(\"If \", country_name_1, \" had the same death rate as \" , country_name_2, \", then \", country_name_1, \" would have lost \", '{:,}'.format(predicted_lost) , \" people, instead of \", '{:,}'.format(Total_Deaths_country_name_1))\n",
    "\n",
    "# Calculate the median deaths across all nations\n",
    "predicted_lost_median = round(millions_pop_country_name_1*median_deaths)\n",
    "\n",
    "print(\"If \", country_name_1, \" had the same death rate as the median death rate of \" , median_deaths, \", then \", country_name_1, \" would have lost \", '{:,}'.format(predicted_lost_median) , \" people, instead of \", '{:,}'.format(Total_Deaths_country_name_1))\n",
    "\n",
    "\n",
    "print(f\"******************Comparing {country_name_1} total deaths using the world median death rate.**************\")\n",
    "\n",
    "if predicted_lost_median > Total_Deaths_country_name_1:\n",
    "    print(f\"{country_name_1} SAVED {predicted_lost_median-Total_Deaths_country_name_1} compared to the world average across nations.  So, this nation did BETTER than the average nation.\")\n",
    "elif predicted_lost_median < Total_Deaths_country_name_1:\n",
    "  print(f\"{country_name_1} LOST {abs(predicted_lost_median-Total_Deaths_country_name_1)} compared to the world average across nations.  So this nation did WORSE than the average nation.\")\n",
    "else:\n",
    "  print(\"The world average across nations is equal to the world average\")"
   ]
  },
  {
   "cell_type": "code",
   "execution_count": 24,
   "id": "d7c7f4ee-af57-4d6d-a720-1d7ef922bdff",
   "metadata": {
    "tags": []
   },
   "outputs": [
    {
     "data": {
      "text/html": [
       "<div>\n",
       "<style scoped>\n",
       "    .dataframe tbody tr th:only-of-type {\n",
       "        vertical-align: middle;\n",
       "    }\n",
       "\n",
       "    .dataframe tbody tr th {\n",
       "        vertical-align: top;\n",
       "    }\n",
       "\n",
       "    .dataframe thead th {\n",
       "        text-align: right;\n",
       "    }\n",
       "</style>\n",
       "<table border=\"1\" class=\"dataframe\">\n",
       "  <thead>\n",
       "    <tr style=\"text-align: right;\">\n",
       "      <th></th>\n",
       "      <th>Country</th>\n",
       "      <th>Total_deaths</th>\n",
       "      <th>Total_cases_per_million</th>\n",
       "      <th>total_deaths_per_million</th>\n",
       "      <th>Total_tests</th>\n",
       "      <th>Total_tests_per_million</th>\n",
       "      <th>Population</th>\n",
       "    </tr>\n",
       "  </thead>\n",
       "  <tbody>\n",
       "    <tr>\n",
       "      <th>0</th>\n",
       "      <td>USA</td>\n",
       "      <td>1218836.0</td>\n",
       "      <td>333818.0</td>\n",
       "      <td>3640.0</td>\n",
       "      <td>1.186852e+09</td>\n",
       "      <td>3544901.0</td>\n",
       "      <td>3.348053e+08</td>\n",
       "    </tr>\n",
       "    <tr>\n",
       "      <th>4</th>\n",
       "      <td>Brazil</td>\n",
       "      <td>710966.0</td>\n",
       "      <td>179678.0</td>\n",
       "      <td>3301.0</td>\n",
       "      <td>6.377617e+07</td>\n",
       "      <td>296146.0</td>\n",
       "      <td>2.153536e+08</td>\n",
       "    </tr>\n",
       "    <tr>\n",
       "      <th>5</th>\n",
       "      <td>S. Korea</td>\n",
       "      <td>35934.0</td>\n",
       "      <td>673523.0</td>\n",
       "      <td>700.0</td>\n",
       "      <td>1.580406e+07</td>\n",
       "      <td>307892.0</td>\n",
       "      <td>5.132990e+07</td>\n",
       "    </tr>\n",
       "    <tr>\n",
       "      <th>6</th>\n",
       "      <td>Japan</td>\n",
       "      <td>74694.0</td>\n",
       "      <td>269169.0</td>\n",
       "      <td>595.0</td>\n",
       "      <td>1.004149e+08</td>\n",
       "      <td>799578.0</td>\n",
       "      <td>1.255848e+08</td>\n",
       "    </tr>\n",
       "    <tr>\n",
       "      <th>9</th>\n",
       "      <td>Russia</td>\n",
       "      <td>402612.0</td>\n",
       "      <td>165169.0</td>\n",
       "      <td>2761.0</td>\n",
       "      <td>2.734000e+08</td>\n",
       "      <td>1875095.0</td>\n",
       "      <td>1.458059e+08</td>\n",
       "    </tr>\n",
       "    <tr>\n",
       "      <th>29</th>\n",
       "      <td>Belgium</td>\n",
       "      <td>34376.0</td>\n",
       "      <td>416644.0</td>\n",
       "      <td>2946.0</td>\n",
       "      <td>3.745418e+07</td>\n",
       "      <td>3209915.0</td>\n",
       "      <td>1.166828e+07</td>\n",
       "    </tr>\n",
       "    <tr>\n",
       "      <th>34</th>\n",
       "      <td>Peru</td>\n",
       "      <td>222161.0</td>\n",
       "      <td>135751.0</td>\n",
       "      <td>6595.0</td>\n",
       "      <td>3.901019e+07</td>\n",
       "      <td>1158115.0</td>\n",
       "      <td>3.368421e+07</td>\n",
       "    </tr>\n",
       "    <tr>\n",
       "      <th>91</th>\n",
       "      <td>China</td>\n",
       "      <td>5272.0</td>\n",
       "      <td>347.0</td>\n",
       "      <td>4.0</td>\n",
       "      <td>1.600000e+08</td>\n",
       "      <td>110461.0</td>\n",
       "      <td>1.448471e+09</td>\n",
       "    </tr>\n",
       "  </tbody>\n",
       "</table>\n",
       "</div>"
      ],
      "text/plain": [
       "     Country  Total_deaths  Total_cases_per_million  total_deaths_per_million  \\\n",
       "0        USA     1218836.0                 333818.0                    3640.0   \n",
       "4     Brazil      710966.0                 179678.0                    3301.0   \n",
       "5   S. Korea       35934.0                 673523.0                     700.0   \n",
       "6      Japan       74694.0                 269169.0                     595.0   \n",
       "9     Russia      402612.0                 165169.0                    2761.0   \n",
       "29   Belgium       34376.0                 416644.0                    2946.0   \n",
       "34      Peru      222161.0                 135751.0                    6595.0   \n",
       "91     China        5272.0                    347.0                       4.0   \n",
       "\n",
       "     Total_tests  Total_tests_per_million    Population  \n",
       "0   1.186852e+09                3544901.0  3.348053e+08  \n",
       "4   6.377617e+07                 296146.0  2.153536e+08  \n",
       "5   1.580406e+07                 307892.0  5.132990e+07  \n",
       "6   1.004149e+08                 799578.0  1.255848e+08  \n",
       "9   2.734000e+08                1875095.0  1.458059e+08  \n",
       "29  3.745418e+07                3209915.0  1.166828e+07  \n",
       "34  3.901019e+07                1158115.0  3.368421e+07  \n",
       "91  1.600000e+08                 110461.0  1.448471e+09  "
      ]
     },
     "metadata": {},
     "output_type": "display_data"
    }
   ],
   "source": [
    "desired_countries = ['Japan','S. Korea',  'USA', 'Brazil', 'Peru', 'China', 'Russia', 'Belgium']\n",
    "display(df_worldometer_data[df_worldometer_data['Country'].isin(desired_countries)])"
   ]
  },
  {
   "cell_type": "code",
   "execution_count": 25,
   "id": "acf3b155-a458-4b84-9821-95ba31a7a524",
   "metadata": {
    "tags": []
   },
   "outputs": [
    {
     "name": "stdout",
     "output_type": "stream",
     "text": [
      "    Country  Total_deaths  Total_cases_per_million  total_deaths_per_million  \\\n",
      "5  S. Korea       35934.0                 673523.0                     700.0   \n",
      "\n",
      "   Total_tests  Total_tests_per_million  Population  \n",
      "5   15804065.0                 307892.0  51329899.0  \n"
     ]
    }
   ],
   "source": [
    "# Check for cells containing 'korea'\n",
    "result = df_worldometer_data[df_worldometer_data['Country'].str.contains('Korea')]\n",
    "\n",
    "print(result)"
   ]
  }
 ],
 "metadata": {
  "kernelspec": {
   "display_name": "Python 3 (ipykernel)",
   "language": "python",
   "name": "python3"
  },
  "language_info": {
   "codemirror_mode": {
    "name": "ipython",
    "version": 3
   },
   "file_extension": ".py",
   "mimetype": "text/x-python",
   "name": "python",
   "nbconvert_exporter": "python",
   "pygments_lexer": "ipython3",
   "version": "3.11.5"
  }
 },
 "nbformat": 4,
 "nbformat_minor": 5
}
