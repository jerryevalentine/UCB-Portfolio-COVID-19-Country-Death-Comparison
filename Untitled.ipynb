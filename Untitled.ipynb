{
 "cells": [
  {
   "cell_type": "code",
   "execution_count": 2,
   "id": "d125c69a-ce51-4b59-960e-df77012ad969",
   "metadata": {
    "tags": []
   },
   "outputs": [
    {
     "data": {
      "text/html": [
       "<style>.container { width:75% !important; }</style>"
      ],
      "text/plain": [
       "<IPython.core.display.HTML object>"
      ]
     },
     "metadata": {},
     "output_type": "display_data"
    }
   ],
   "source": [
    "#Increate the size of cells\n",
    "from IPython.display import display, HTML\n",
    "display(HTML(\"<style>.container { width:75% !important; }</style>\"))\n",
    "import pandas as pd"
   ]
  },
  {
   "cell_type": "code",
   "execution_count": 3,
   "id": "c475e5f7-97fc-4d8a-b766-13f843c7cc6c",
   "metadata": {
    "tags": []
   },
   "outputs": [
    {
     "name": "stderr",
     "output_type": "stream",
     "text": [
      "C:\\Users\\jerry\\AppData\\Local\\Temp\\ipykernel_2972\\1345353149.py:1: DtypeWarning: Columns (2,3,44,45) have mixed types. Specify dtype option on import or set low_memory=False.\n",
      "  OxCGRT_simplified = pd.read_csv(\"./Resources/OxCGRT_simplified_v1.csv\")\n"
     ]
    },
    {
     "data": {
      "text/html": [
       "<div>\n",
       "<style scoped>\n",
       "    .dataframe tbody tr th:only-of-type {\n",
       "        vertical-align: middle;\n",
       "    }\n",
       "\n",
       "    .dataframe tbody tr th {\n",
       "        vertical-align: top;\n",
       "    }\n",
       "\n",
       "    .dataframe thead th {\n",
       "        text-align: right;\n",
       "    }\n",
       "</style>\n",
       "<table border=\"1\" class=\"dataframe\">\n",
       "  <thead>\n",
       "    <tr style=\"text-align: right;\">\n",
       "      <th></th>\n",
       "      <th>CountryName</th>\n",
       "      <th>CountryCode</th>\n",
       "      <th>RegionName</th>\n",
       "      <th>RegionCode</th>\n",
       "      <th>Jurisdiction</th>\n",
       "      <th>Date</th>\n",
       "      <th>C1M_combined_numeric</th>\n",
       "      <th>C1M_combined</th>\n",
       "      <th>C2M_combined_numeric</th>\n",
       "      <th>C2M_combined</th>\n",
       "      <th>...</th>\n",
       "      <th>V3..summary.</th>\n",
       "      <th>V4..summary.</th>\n",
       "      <th>ConfirmedCases</th>\n",
       "      <th>ConfirmedDeaths</th>\n",
       "      <th>MajorityVaccinated</th>\n",
       "      <th>PopulationVaccinated</th>\n",
       "      <th>StringencyIndex_Average</th>\n",
       "      <th>GovernmentResponseIndex_Average</th>\n",
       "      <th>ContainmentHealthIndex_Average</th>\n",
       "      <th>EconomicSupportIndex</th>\n",
       "    </tr>\n",
       "  </thead>\n",
       "  <tbody>\n",
       "    <tr>\n",
       "      <th>0</th>\n",
       "      <td>Aruba</td>\n",
       "      <td>ABW</td>\n",
       "      <td>NaN</td>\n",
       "      <td>NaN</td>\n",
       "      <td>NAT_TOTAL</td>\n",
       "      <td>20200101</td>\n",
       "      <td>0.0</td>\n",
       "      <td>0</td>\n",
       "      <td>0.0</td>\n",
       "      <td>0</td>\n",
       "      <td>...</td>\n",
       "      <td>0</td>\n",
       "      <td>NaN</td>\n",
       "      <td>0.0</td>\n",
       "      <td>0.0</td>\n",
       "      <td>NV</td>\n",
       "      <td>0.0</td>\n",
       "      <td>0.0</td>\n",
       "      <td>0.0</td>\n",
       "      <td>0.0</td>\n",
       "      <td>0.0</td>\n",
       "    </tr>\n",
       "  </tbody>\n",
       "</table>\n",
       "<p>1 rows × 50 columns</p>\n",
       "</div>"
      ],
      "text/plain": [
       "  CountryName CountryCode RegionName RegionCode Jurisdiction      Date  \\\n",
       "0       Aruba         ABW        NaN        NaN    NAT_TOTAL  20200101   \n",
       "\n",
       "   C1M_combined_numeric C1M_combined  C2M_combined_numeric C2M_combined  ...  \\\n",
       "0                   0.0            0                   0.0            0  ...   \n",
       "\n",
       "   V3..summary. V4..summary.  ConfirmedCases ConfirmedDeaths  \\\n",
       "0             0          NaN             0.0             0.0   \n",
       "\n",
       "   MajorityVaccinated PopulationVaccinated  StringencyIndex_Average  \\\n",
       "0                  NV                  0.0                      0.0   \n",
       "\n",
       "  GovernmentResponseIndex_Average  ContainmentHealthIndex_Average  \\\n",
       "0                             0.0                             0.0   \n",
       "\n",
       "  EconomicSupportIndex  \n",
       "0                  0.0  \n",
       "\n",
       "[1 rows x 50 columns]"
      ]
     },
     "execution_count": 3,
     "metadata": {},
     "output_type": "execute_result"
    }
   ],
   "source": [
    "OxCGRT_simplified = pd.read_csv(\"./Resources/OxCGRT_simplified_v1.csv\")\n",
    "OxCGRT_simplified.head(1)"
   ]
  },
  {
   "cell_type": "code",
   "execution_count": 4,
   "id": "11251221-76a6-4b2e-a2f7-9006b836180e",
   "metadata": {
    "tags": []
   },
   "outputs": [
    {
     "data": {
      "text/plain": [
       "CountryName                         object\n",
       "CountryCode                         object\n",
       "RegionName                          object\n",
       "RegionCode                          object\n",
       "Jurisdiction                        object\n",
       "Date                                 int64\n",
       "C1M_combined_numeric               float64\n",
       "C1M_combined                        object\n",
       "C2M_combined_numeric               float64\n",
       "C2M_combined                        object\n",
       "C3M_combined_numeric               float64\n",
       "C3M_combined                        object\n",
       "C4M_combined_numeric               float64\n",
       "C4M_combined                        object\n",
       "C5M_combined_numeric               float64\n",
       "C5M_combined                        object\n",
       "C6M_combined_numeric               float64\n",
       "C6M_combined                        object\n",
       "C7M_combined_numeric               float64\n",
       "C7M_combined                        object\n",
       "C8EV_combined_numeric                int64\n",
       "C8EV_combined                        int64\n",
       "E1_combined_numeric                float64\n",
       "E1_combined                         object\n",
       "E2_combined_numeric                  int64\n",
       "E2_combined                          int64\n",
       "H1_combined_numeric                float64\n",
       "H1_combined                         object\n",
       "H2_combined_numeric                  int64\n",
       "H2_combined                          int64\n",
       "H3_combined_numeric                  int64\n",
       "H3_combined                          int64\n",
       "H6M_combined_numeric               float64\n",
       "H6M_combined                        object\n",
       "H7_combined_numeric                float64\n",
       "H7_combined                         object\n",
       "H8M_combined_numeric               float64\n",
       "H8M_combined                        object\n",
       "V1..summary.                         int64\n",
       "V2..summary.                         int64\n",
       "V3..summary.                         int64\n",
       "V4..summary.                       float64\n",
       "ConfirmedCases                     float64\n",
       "ConfirmedDeaths                    float64\n",
       "MajorityVaccinated                  object\n",
       "PopulationVaccinated                object\n",
       "StringencyIndex_Average            float64\n",
       "GovernmentResponseIndex_Average    float64\n",
       "ContainmentHealthIndex_Average     float64\n",
       "EconomicSupportIndex               float64\n",
       "dtype: object"
      ]
     },
     "execution_count": 4,
     "metadata": {},
     "output_type": "execute_result"
    }
   ],
   "source": [
    "OxCGRT_simplified.dtypes"
   ]
  },
  {
   "cell_type": "code",
   "execution_count": null,
   "id": "24e20b42-b4e1-4ad8-8b1a-daa601024f70",
   "metadata": {},
   "outputs": [],
   "source": []
  }
 ],
 "metadata": {
  "kernelspec": {
   "display_name": "Python 3 (ipykernel)",
   "language": "python",
   "name": "python3"
  },
  "language_info": {
   "codemirror_mode": {
    "name": "ipython",
    "version": 3
   },
   "file_extension": ".py",
   "mimetype": "text/x-python",
   "name": "python",
   "nbconvert_exporter": "python",
   "pygments_lexer": "ipython3",
   "version": "3.11.5"
  }
 },
 "nbformat": 4,
 "nbformat_minor": 5
}
