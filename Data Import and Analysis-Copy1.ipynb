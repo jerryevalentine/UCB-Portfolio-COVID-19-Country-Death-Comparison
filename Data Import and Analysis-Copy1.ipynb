{
 "cells": [
  {
   "cell_type": "markdown",
   "id": "102d763d-2a0e-4f8c-8597-3855d89c8933",
   "metadata": {},
   "source": [
    "# Import and view the datasets #"
   ]
  },
  {
   "cell_type": "markdown",
   "id": "d0e4db85-8b89-4a09-8827-47a6e62b94b5",
   "metadata": {},
   "source": [
    "### Dependencies ###"
   ]
  },
  {
   "cell_type": "code",
   "execution_count": 1,
   "id": "95954f7a-c363-48fd-aa52-23dd19afa4f1",
   "metadata": {
    "tags": []
   },
   "outputs": [],
   "source": [
    "import pandas as pd"
   ]
  },
  {
   "cell_type": "markdown",
   "id": "3bce6ba4-b0f7-463c-8c0a-668024218c26",
   "metadata": {},
   "source": [
    "#### Provisional_COVID-19_Deaths_by_HHS_Region__Race__and_Age ####"
   ]
  },
  {
   "cell_type": "code",
   "execution_count": 8,
   "id": "43c6b3e2-d9e6-46e7-aed2-8d7cf298bbf8",
   "metadata": {
    "tags": []
   },
   "outputs": [
    {
     "name": "stderr",
     "output_type": "stream",
     "text": [
      "C:\\Users\\jerry\\AppData\\Local\\Temp\\ipykernel_8644\\789935090.py:5: DtypeWarning: Columns (8) have mixed types. Specify dtype option on import or set low_memory=False.\n",
      "  df_Provisional_COVID_19_Deaths = pd.read_csv(\"Provisional_COVID-19_Deaths_by_HHS_Region__Race__and_Age.csv\")\n"
     ]
    },
    {
     "data": {
      "text/html": [
       "<div>\n",
       "<style scoped>\n",
       "    .dataframe tbody tr th:only-of-type {\n",
       "        vertical-align: middle;\n",
       "    }\n",
       "\n",
       "    .dataframe tbody tr th {\n",
       "        vertical-align: top;\n",
       "    }\n",
       "\n",
       "    .dataframe thead th {\n",
       "        text-align: right;\n",
       "    }\n",
       "</style>\n",
       "<table border=\"1\" class=\"dataframe\">\n",
       "  <thead>\n",
       "    <tr style=\"text-align: right;\">\n",
       "      <th></th>\n",
       "      <th>Data As Of</th>\n",
       "      <th>Start Date</th>\n",
       "      <th>End Date</th>\n",
       "      <th>Group</th>\n",
       "      <th>Year</th>\n",
       "      <th>Month</th>\n",
       "      <th>MMWR Week</th>\n",
       "      <th>Week-Ending Date</th>\n",
       "      <th>HHS Region</th>\n",
       "      <th>Race and Hispanic Origin Group</th>\n",
       "      <th>Age Group</th>\n",
       "      <th>COVID-19 Deaths</th>\n",
       "      <th>Total Deaths</th>\n",
       "      <th>Footnote</th>\n",
       "    </tr>\n",
       "  </thead>\n",
       "  <tbody>\n",
       "    <tr>\n",
       "      <th>0</th>\n",
       "      <td>09/27/2023</td>\n",
       "      <td>12/29/2019</td>\n",
       "      <td>01/04/2020</td>\n",
       "      <td>By Week</td>\n",
       "      <td>2019/2020</td>\n",
       "      <td>NaN</td>\n",
       "      <td>1.0</td>\n",
       "      <td>01/04/2020</td>\n",
       "      <td>United States</td>\n",
       "      <td>Hispanic</td>\n",
       "      <td>0-4 years</td>\n",
       "      <td>0.0</td>\n",
       "      <td>104.0</td>\n",
       "      <td>NaN</td>\n",
       "    </tr>\n",
       "  </tbody>\n",
       "</table>\n",
       "</div>"
      ],
      "text/plain": [
       "   Data As Of  Start Date    End Date    Group       Year  Month  MMWR Week  \\\n",
       "0  09/27/2023  12/29/2019  01/04/2020  By Week  2019/2020    NaN        1.0   \n",
       "\n",
       "  Week-Ending Date     HHS Region Race and Hispanic Origin Group  Age Group  \\\n",
       "0       01/04/2020  United States                       Hispanic  0-4 years   \n",
       "\n",
       "   COVID-19 Deaths  Total Deaths Footnote  \n",
       "0              0.0         104.0      NaN  "
      ]
     },
     "execution_count": 8,
     "metadata": {},
     "output_type": "execute_result"
    }
   ],
   "source": [
    "#Summary: Data to 9/27/2023.  See wonder.cdc.gov.  \n",
    "#Deaths involving COVID-19 reported to NCHS by time-period.\n",
    "#HHS region, race and Hispanic origin, and age group.\n",
    "\n",
    "df_Provisional_COVID_19_Deaths = pd.read_csv(\"Provisional_COVID-19_Deaths_by_HHS_Region__Race__and_Age.csv\")\n",
    "df_Provisional_COVID_19_Deaths.head(1)"
   ]
  },
  {
   "cell_type": "markdown",
   "id": "0676d3bc-3577-4abc-adba-67c216f6edc2",
   "metadata": {},
   "source": [
    "#### biweekly_deaths_per_million ####"
   ]
  },
  {
   "cell_type": "code",
   "execution_count": 2,
   "id": "9b71a286-d4db-466c-b6de-0496c57b5141",
   "metadata": {
    "tags": []
   },
   "outputs": [
    {
     "data": {
      "text/html": [
       "<div>\n",
       "<style scoped>\n",
       "    .dataframe tbody tr th:only-of-type {\n",
       "        vertical-align: middle;\n",
       "    }\n",
       "\n",
       "    .dataframe tbody tr th {\n",
       "        vertical-align: top;\n",
       "    }\n",
       "\n",
       "    .dataframe thead th {\n",
       "        text-align: right;\n",
       "    }\n",
       "</style>\n",
       "<table border=\"1\" class=\"dataframe\">\n",
       "  <thead>\n",
       "    <tr style=\"text-align: right;\">\n",
       "      <th></th>\n",
       "      <th>date</th>\n",
       "      <th>World</th>\n",
       "      <th>Afghanistan</th>\n",
       "      <th>Africa</th>\n",
       "      <th>Albania</th>\n",
       "      <th>Algeria</th>\n",
       "      <th>American Samoa</th>\n",
       "      <th>Andorra</th>\n",
       "      <th>Angola</th>\n",
       "      <th>Anguilla</th>\n",
       "      <th>...</th>\n",
       "      <th>Uruguay</th>\n",
       "      <th>Uzbekistan</th>\n",
       "      <th>Vanuatu</th>\n",
       "      <th>Vatican</th>\n",
       "      <th>Venezuela</th>\n",
       "      <th>Vietnam</th>\n",
       "      <th>Wallis and Futuna</th>\n",
       "      <th>Yemen</th>\n",
       "      <th>Zambia</th>\n",
       "      <th>Zimbabwe</th>\n",
       "    </tr>\n",
       "  </thead>\n",
       "  <tbody>\n",
       "    <tr>\n",
       "      <th>0</th>\n",
       "      <td>2020-01-03</td>\n",
       "      <td>NaN</td>\n",
       "      <td>NaN</td>\n",
       "      <td>NaN</td>\n",
       "      <td>NaN</td>\n",
       "      <td>NaN</td>\n",
       "      <td>NaN</td>\n",
       "      <td>NaN</td>\n",
       "      <td>NaN</td>\n",
       "      <td>NaN</td>\n",
       "      <td>...</td>\n",
       "      <td>NaN</td>\n",
       "      <td>NaN</td>\n",
       "      <td>NaN</td>\n",
       "      <td>NaN</td>\n",
       "      <td>NaN</td>\n",
       "      <td>NaN</td>\n",
       "      <td>NaN</td>\n",
       "      <td>NaN</td>\n",
       "      <td>NaN</td>\n",
       "      <td>NaN</td>\n",
       "    </tr>\n",
       "  </tbody>\n",
       "</table>\n",
       "<p>1 rows × 248 columns</p>\n",
       "</div>"
      ],
      "text/plain": [
       "         date  World  Afghanistan  Africa  Albania  Algeria  American Samoa  \\\n",
       "0  2020-01-03    NaN          NaN     NaN      NaN      NaN             NaN   \n",
       "\n",
       "   Andorra  Angola  Anguilla  ...  Uruguay  Uzbekistan  Vanuatu  Vatican  \\\n",
       "0      NaN     NaN       NaN  ...      NaN         NaN      NaN      NaN   \n",
       "\n",
       "   Venezuela  Vietnam  Wallis and Futuna  Yemen  Zambia  Zimbabwe  \n",
       "0        NaN      NaN                NaN    NaN     NaN       NaN  \n",
       "\n",
       "[1 rows x 248 columns]"
      ]
     },
     "execution_count": 2,
     "metadata": {},
     "output_type": "execute_result"
    }
   ],
   "source": [
    "#Summary: \n",
    "\n",
    "df_biweekly_deaths_per_million = pd.read_csv(\"biweekly_deaths_per_million.csv\")\n",
    "df_biweekly_deaths_per_million.head(1)"
   ]
  },
  {
   "cell_type": "markdown",
   "id": "d35d0660-8b65-46fb-934f-ac0863f9830b",
   "metadata": {},
   "source": [
    "#### covid_19_clean_complete ####"
   ]
  },
  {
   "cell_type": "code",
   "execution_count": 3,
   "id": "64fb5859-383f-4be0-8dae-c9bddf09a25c",
   "metadata": {
    "tags": []
   },
   "outputs": [
    {
     "data": {
      "text/html": [
       "<div>\n",
       "<style scoped>\n",
       "    .dataframe tbody tr th:only-of-type {\n",
       "        vertical-align: middle;\n",
       "    }\n",
       "\n",
       "    .dataframe tbody tr th {\n",
       "        vertical-align: top;\n",
       "    }\n",
       "\n",
       "    .dataframe thead th {\n",
       "        text-align: right;\n",
       "    }\n",
       "</style>\n",
       "<table border=\"1\" class=\"dataframe\">\n",
       "  <thead>\n",
       "    <tr style=\"text-align: right;\">\n",
       "      <th></th>\n",
       "      <th>Province/State</th>\n",
       "      <th>Country/Region</th>\n",
       "      <th>Lat</th>\n",
       "      <th>Long</th>\n",
       "      <th>Date</th>\n",
       "      <th>Confirmed</th>\n",
       "      <th>Deaths</th>\n",
       "      <th>Recovered</th>\n",
       "      <th>Active</th>\n",
       "      <th>WHO Region</th>\n",
       "    </tr>\n",
       "  </thead>\n",
       "  <tbody>\n",
       "    <tr>\n",
       "      <th>0</th>\n",
       "      <td>NaN</td>\n",
       "      <td>Afghanistan</td>\n",
       "      <td>33.93911</td>\n",
       "      <td>67.709953</td>\n",
       "      <td>2020-01-22</td>\n",
       "      <td>0</td>\n",
       "      <td>0</td>\n",
       "      <td>0</td>\n",
       "      <td>0</td>\n",
       "      <td>Eastern Mediterranean</td>\n",
       "    </tr>\n",
       "  </tbody>\n",
       "</table>\n",
       "</div>"
      ],
      "text/plain": [
       "  Province/State Country/Region       Lat       Long        Date  Confirmed  \\\n",
       "0            NaN    Afghanistan  33.93911  67.709953  2020-01-22          0   \n",
       "\n",
       "   Deaths  Recovered  Active             WHO Region  \n",
       "0       0          0       0  Eastern Mediterranean  "
      ]
     },
     "execution_count": 3,
     "metadata": {},
     "output_type": "execute_result"
    }
   ],
   "source": [
    "#Summary: \n",
    "df_covid_19_clean_complete = pd.read_csv(\"covid_19_clean_complete.csv\")\n",
    "df_covid_19_clean_complete.head(1)"
   ]
  },
  {
   "cell_type": "markdown",
   "id": "a7061be4-188a-4df1-b417-649397811070",
   "metadata": {},
   "source": [
    "#### day_wise ####"
   ]
  },
  {
   "cell_type": "code",
   "execution_count": 4,
   "id": "b5b71de3-c769-407e-b42c-e35dc4ab8ea7",
   "metadata": {
    "tags": []
   },
   "outputs": [
    {
     "data": {
      "text/html": [
       "<div>\n",
       "<style scoped>\n",
       "    .dataframe tbody tr th:only-of-type {\n",
       "        vertical-align: middle;\n",
       "    }\n",
       "\n",
       "    .dataframe tbody tr th {\n",
       "        vertical-align: top;\n",
       "    }\n",
       "\n",
       "    .dataframe thead th {\n",
       "        text-align: right;\n",
       "    }\n",
       "</style>\n",
       "<table border=\"1\" class=\"dataframe\">\n",
       "  <thead>\n",
       "    <tr style=\"text-align: right;\">\n",
       "      <th></th>\n",
       "      <th>Date</th>\n",
       "      <th>Confirmed</th>\n",
       "      <th>Deaths</th>\n",
       "      <th>Recovered</th>\n",
       "      <th>Active</th>\n",
       "      <th>New cases</th>\n",
       "      <th>New deaths</th>\n",
       "      <th>New recovered</th>\n",
       "      <th>Deaths / 100 Cases</th>\n",
       "      <th>Recovered / 100 Cases</th>\n",
       "      <th>Deaths / 100 Recovered</th>\n",
       "      <th>No. of countries</th>\n",
       "    </tr>\n",
       "  </thead>\n",
       "  <tbody>\n",
       "    <tr>\n",
       "      <th>0</th>\n",
       "      <td>2020-01-22</td>\n",
       "      <td>555</td>\n",
       "      <td>17</td>\n",
       "      <td>28</td>\n",
       "      <td>510</td>\n",
       "      <td>0</td>\n",
       "      <td>0</td>\n",
       "      <td>0</td>\n",
       "      <td>3.06</td>\n",
       "      <td>5.05</td>\n",
       "      <td>60.71</td>\n",
       "      <td>6</td>\n",
       "    </tr>\n",
       "  </tbody>\n",
       "</table>\n",
       "</div>"
      ],
      "text/plain": [
       "         Date  Confirmed  Deaths  Recovered  Active  New cases  New deaths  \\\n",
       "0  2020-01-22        555      17         28     510          0           0   \n",
       "\n",
       "   New recovered  Deaths / 100 Cases  Recovered / 100 Cases  \\\n",
       "0              0                3.06                   5.05   \n",
       "\n",
       "   Deaths / 100 Recovered  No. of countries  \n",
       "0                   60.71                 6  "
      ]
     },
     "execution_count": 4,
     "metadata": {},
     "output_type": "execute_result"
    }
   ],
   "source": [
    "#Summary: \n",
    "\n",
    "df_day_wise = pd.read_csv(\"day_wise.csv\")\n",
    "df_day_wise.head(1)"
   ]
  },
  {
   "cell_type": "markdown",
   "id": "d145e1cb-24c2-4b76-bc5e-c772fa9dcdc5",
   "metadata": {},
   "source": [
    "#### full_grouped ####"
   ]
  },
  {
   "cell_type": "code",
   "execution_count": 5,
   "id": "a78a633f-f52e-4b38-9f1a-abc8d62da1b5",
   "metadata": {
    "tags": []
   },
   "outputs": [
    {
     "data": {
      "text/html": [
       "<div>\n",
       "<style scoped>\n",
       "    .dataframe tbody tr th:only-of-type {\n",
       "        vertical-align: middle;\n",
       "    }\n",
       "\n",
       "    .dataframe tbody tr th {\n",
       "        vertical-align: top;\n",
       "    }\n",
       "\n",
       "    .dataframe thead th {\n",
       "        text-align: right;\n",
       "    }\n",
       "</style>\n",
       "<table border=\"1\" class=\"dataframe\">\n",
       "  <thead>\n",
       "    <tr style=\"text-align: right;\">\n",
       "      <th></th>\n",
       "      <th>Date</th>\n",
       "      <th>Country/Region</th>\n",
       "      <th>Confirmed</th>\n",
       "      <th>Deaths</th>\n",
       "      <th>Recovered</th>\n",
       "      <th>Active</th>\n",
       "      <th>New cases</th>\n",
       "      <th>New deaths</th>\n",
       "      <th>New recovered</th>\n",
       "      <th>WHO Region</th>\n",
       "    </tr>\n",
       "  </thead>\n",
       "  <tbody>\n",
       "    <tr>\n",
       "      <th>0</th>\n",
       "      <td>2020-01-22</td>\n",
       "      <td>Afghanistan</td>\n",
       "      <td>0</td>\n",
       "      <td>0</td>\n",
       "      <td>0</td>\n",
       "      <td>0</td>\n",
       "      <td>0</td>\n",
       "      <td>0</td>\n",
       "      <td>0</td>\n",
       "      <td>Eastern Mediterranean</td>\n",
       "    </tr>\n",
       "  </tbody>\n",
       "</table>\n",
       "</div>"
      ],
      "text/plain": [
       "         Date Country/Region  Confirmed  Deaths  Recovered  Active  New cases  \\\n",
       "0  2020-01-22    Afghanistan          0       0          0       0          0   \n",
       "\n",
       "   New deaths  New recovered             WHO Region  \n",
       "0           0              0  Eastern Mediterranean  "
      ]
     },
     "execution_count": 5,
     "metadata": {},
     "output_type": "execute_result"
    }
   ],
   "source": [
    "#Summary: \n",
    "\n",
    "df_full_grouped = pd.read_csv(\"full_grouped.csv\")\n",
    "df_full_grouped.head(1)"
   ]
  },
  {
   "cell_type": "markdown",
   "id": "68c28a19-5176-4052-91ab-e314f40b1382",
   "metadata": {},
   "source": [
    "#### population-and-demography ####"
   ]
  },
  {
   "cell_type": "code",
   "execution_count": 6,
   "id": "6e620758-1189-4b5d-ac61-e358beb7c786",
   "metadata": {
    "tags": []
   },
   "outputs": [
    {
     "data": {
      "text/html": [
       "<div>\n",
       "<style scoped>\n",
       "    .dataframe tbody tr th:only-of-type {\n",
       "        vertical-align: middle;\n",
       "    }\n",
       "\n",
       "    .dataframe tbody tr th {\n",
       "        vertical-align: top;\n",
       "    }\n",
       "\n",
       "    .dataframe thead th {\n",
       "        text-align: right;\n",
       "    }\n",
       "</style>\n",
       "<table border=\"1\" class=\"dataframe\">\n",
       "  <thead>\n",
       "    <tr style=\"text-align: right;\">\n",
       "      <th></th>\n",
       "      <th>Country name</th>\n",
       "      <th>Year</th>\n",
       "      <th>Population</th>\n",
       "      <th>Population of children under the age of 1</th>\n",
       "      <th>Population of children under the age of 5</th>\n",
       "      <th>Population of children under the age of 15</th>\n",
       "      <th>Population under the age of 25</th>\n",
       "      <th>Population aged 15 to 64 years</th>\n",
       "      <th>Population older than 15 years</th>\n",
       "      <th>Population older than 18 years</th>\n",
       "      <th>...</th>\n",
       "      <th>Population aged 15 to 19 years</th>\n",
       "      <th>Population aged 20 to 29 years</th>\n",
       "      <th>Population aged 30 to 39 years</th>\n",
       "      <th>Population aged 40 to 49 years</th>\n",
       "      <th>Population aged 50 to 59 years</th>\n",
       "      <th>Population aged 60 to 69 years</th>\n",
       "      <th>Population aged 70 to 79 years</th>\n",
       "      <th>Population aged 80 to 89 years</th>\n",
       "      <th>Population aged 90 to 99 years</th>\n",
       "      <th>Population older than 100 years</th>\n",
       "    </tr>\n",
       "  </thead>\n",
       "  <tbody>\n",
       "    <tr>\n",
       "      <th>0</th>\n",
       "      <td>Afghanistan</td>\n",
       "      <td>1950</td>\n",
       "      <td>7480464</td>\n",
       "      <td>301735.0</td>\n",
       "      <td>1248282</td>\n",
       "      <td>3068855</td>\n",
       "      <td>4494349</td>\n",
       "      <td>4198587</td>\n",
       "      <td>4411609</td>\n",
       "      <td>3946595</td>\n",
       "      <td>...</td>\n",
       "      <td>757113</td>\n",
       "      <td>1241348</td>\n",
       "      <td>909953</td>\n",
       "      <td>661807</td>\n",
       "      <td>467170</td>\n",
       "      <td>271905</td>\n",
       "      <td>92691</td>\n",
       "      <td>9499</td>\n",
       "      <td>123</td>\n",
       "      <td>0.0</td>\n",
       "    </tr>\n",
       "  </tbody>\n",
       "</table>\n",
       "<p>1 rows × 24 columns</p>\n",
       "</div>"
      ],
      "text/plain": [
       "  Country name  Year  Population  Population of children under the age of 1  \\\n",
       "0  Afghanistan  1950     7480464                                   301735.0   \n",
       "\n",
       "   Population of children under the age of 5  \\\n",
       "0                                    1248282   \n",
       "\n",
       "   Population of children under the age of 15  Population under the age of 25  \\\n",
       "0                                     3068855                         4494349   \n",
       "\n",
       "   Population aged 15 to 64 years  Population older than 15 years  \\\n",
       "0                         4198587                         4411609   \n",
       "\n",
       "   Population older than 18 years  ...  Population aged 15 to 19 years  \\\n",
       "0                         3946595  ...                          757113   \n",
       "\n",
       "   Population aged 20 to 29 years  Population aged 30 to 39 years  \\\n",
       "0                         1241348                          909953   \n",
       "\n",
       "   Population aged 40 to 49 years  Population aged 50 to 59 years  \\\n",
       "0                          661807                          467170   \n",
       "\n",
       "   Population aged 60 to 69 years  Population aged 70 to 79 years  \\\n",
       "0                          271905                           92691   \n",
       "\n",
       "   Population aged 80 to 89 years  Population aged 90 to 99 years  \\\n",
       "0                            9499                             123   \n",
       "\n",
       "   Population older than 100 years  \n",
       "0                              0.0  \n",
       "\n",
       "[1 rows x 24 columns]"
      ]
     },
     "execution_count": 6,
     "metadata": {},
     "output_type": "execute_result"
    }
   ],
   "source": [
    "#Summary: \n",
    "\n",
    "df_population_and_demography = pd.read_csv(\"population-and-demography.csv\")\n",
    "df_population_and_demography.head(1)"
   ]
  },
  {
   "cell_type": "markdown",
   "id": "1b066a50-7004-4799-9867-152e6ebe92a7",
   "metadata": {},
   "source": [
    "#### total_deaths_per_million ####"
   ]
  },
  {
   "cell_type": "code",
   "execution_count": 9,
   "id": "8f991938-9e52-4502-80bf-d5eb49b549b9",
   "metadata": {
    "tags": []
   },
   "outputs": [
    {
     "data": {
      "text/html": [
       "<div>\n",
       "<style scoped>\n",
       "    .dataframe tbody tr th:only-of-type {\n",
       "        vertical-align: middle;\n",
       "    }\n",
       "\n",
       "    .dataframe tbody tr th {\n",
       "        vertical-align: top;\n",
       "    }\n",
       "\n",
       "    .dataframe thead th {\n",
       "        text-align: right;\n",
       "    }\n",
       "</style>\n",
       "<table border=\"1\" class=\"dataframe\">\n",
       "  <thead>\n",
       "    <tr style=\"text-align: right;\">\n",
       "      <th></th>\n",
       "      <th>date</th>\n",
       "      <th>World</th>\n",
       "      <th>Afghanistan</th>\n",
       "      <th>Africa</th>\n",
       "      <th>Albania</th>\n",
       "      <th>Algeria</th>\n",
       "      <th>American Samoa</th>\n",
       "      <th>Andorra</th>\n",
       "      <th>Angola</th>\n",
       "      <th>Anguilla</th>\n",
       "      <th>...</th>\n",
       "      <th>Uruguay</th>\n",
       "      <th>Uzbekistan</th>\n",
       "      <th>Vanuatu</th>\n",
       "      <th>Vatican</th>\n",
       "      <th>Venezuela</th>\n",
       "      <th>Vietnam</th>\n",
       "      <th>Wallis and Futuna</th>\n",
       "      <th>Yemen</th>\n",
       "      <th>Zambia</th>\n",
       "      <th>Zimbabwe</th>\n",
       "    </tr>\n",
       "  </thead>\n",
       "  <tbody>\n",
       "    <tr>\n",
       "      <th>0</th>\n",
       "      <td>2020-01-03</td>\n",
       "      <td>0.375</td>\n",
       "      <td>NaN</td>\n",
       "      <td>NaN</td>\n",
       "      <td>NaN</td>\n",
       "      <td>NaN</td>\n",
       "      <td>NaN</td>\n",
       "      <td>NaN</td>\n",
       "      <td>NaN</td>\n",
       "      <td>NaN</td>\n",
       "      <td>...</td>\n",
       "      <td>NaN</td>\n",
       "      <td>NaN</td>\n",
       "      <td>NaN</td>\n",
       "      <td>NaN</td>\n",
       "      <td>NaN</td>\n",
       "      <td>NaN</td>\n",
       "      <td>NaN</td>\n",
       "      <td>NaN</td>\n",
       "      <td>NaN</td>\n",
       "      <td>NaN</td>\n",
       "    </tr>\n",
       "  </tbody>\n",
       "</table>\n",
       "<p>1 rows × 248 columns</p>\n",
       "</div>"
      ],
      "text/plain": [
       "         date  World  Afghanistan  Africa  Albania  Algeria  American Samoa  \\\n",
       "0  2020-01-03  0.375          NaN     NaN      NaN      NaN             NaN   \n",
       "\n",
       "   Andorra  Angola  Anguilla  ...  Uruguay  Uzbekistan  Vanuatu  Vatican  \\\n",
       "0      NaN     NaN       NaN  ...      NaN         NaN      NaN      NaN   \n",
       "\n",
       "   Venezuela  Vietnam  Wallis and Futuna  Yemen  Zambia  Zimbabwe  \n",
       "0        NaN      NaN                NaN    NaN     NaN       NaN  \n",
       "\n",
       "[1 rows x 248 columns]"
      ]
     },
     "execution_count": 9,
     "metadata": {},
     "output_type": "execute_result"
    }
   ],
   "source": [
    "#Summary: \n",
    "\n",
    "df_total_deaths_per_million = pd.read_csv(\"total_deaths_per_million.csv\")\n",
    "df_total_deaths_per_million.head(1)"
   ]
  },
  {
   "cell_type": "markdown",
   "id": "fb8a3e2e-fa5c-43be-85bc-4451bbe89559",
   "metadata": {},
   "source": [
    "#### total_deaths_per_million ####"
   ]
  },
  {
   "cell_type": "code",
   "execution_count": 10,
   "id": "fbaccf08-dff2-45af-bf3b-636f83e48b20",
   "metadata": {
    "tags": []
   },
   "outputs": [
    {
     "data": {
      "text/html": [
       "<div>\n",
       "<style scoped>\n",
       "    .dataframe tbody tr th:only-of-type {\n",
       "        vertical-align: middle;\n",
       "    }\n",
       "\n",
       "    .dataframe tbody tr th {\n",
       "        vertical-align: top;\n",
       "    }\n",
       "\n",
       "    .dataframe thead th {\n",
       "        text-align: right;\n",
       "    }\n",
       "</style>\n",
       "<table border=\"1\" class=\"dataframe\">\n",
       "  <thead>\n",
       "    <tr style=\"text-align: right;\">\n",
       "      <th></th>\n",
       "      <th>date</th>\n",
       "      <th>World</th>\n",
       "      <th>Afghanistan</th>\n",
       "      <th>Africa</th>\n",
       "      <th>Albania</th>\n",
       "      <th>Algeria</th>\n",
       "      <th>American Samoa</th>\n",
       "      <th>Andorra</th>\n",
       "      <th>Angola</th>\n",
       "      <th>Anguilla</th>\n",
       "      <th>...</th>\n",
       "      <th>Uruguay</th>\n",
       "      <th>Uzbekistan</th>\n",
       "      <th>Vanuatu</th>\n",
       "      <th>Vatican</th>\n",
       "      <th>Venezuela</th>\n",
       "      <th>Vietnam</th>\n",
       "      <th>Wallis and Futuna</th>\n",
       "      <th>Yemen</th>\n",
       "      <th>Zambia</th>\n",
       "      <th>Zimbabwe</th>\n",
       "    </tr>\n",
       "  </thead>\n",
       "  <tbody>\n",
       "    <tr>\n",
       "      <th>0</th>\n",
       "      <td>2020-01-03</td>\n",
       "      <td>0.375</td>\n",
       "      <td>NaN</td>\n",
       "      <td>NaN</td>\n",
       "      <td>NaN</td>\n",
       "      <td>NaN</td>\n",
       "      <td>NaN</td>\n",
       "      <td>NaN</td>\n",
       "      <td>NaN</td>\n",
       "      <td>NaN</td>\n",
       "      <td>...</td>\n",
       "      <td>NaN</td>\n",
       "      <td>NaN</td>\n",
       "      <td>NaN</td>\n",
       "      <td>NaN</td>\n",
       "      <td>NaN</td>\n",
       "      <td>NaN</td>\n",
       "      <td>NaN</td>\n",
       "      <td>NaN</td>\n",
       "      <td>NaN</td>\n",
       "      <td>NaN</td>\n",
       "    </tr>\n",
       "  </tbody>\n",
       "</table>\n",
       "<p>1 rows × 248 columns</p>\n",
       "</div>"
      ],
      "text/plain": [
       "         date  World  Afghanistan  Africa  Albania  Algeria  American Samoa  \\\n",
       "0  2020-01-03  0.375          NaN     NaN      NaN      NaN             NaN   \n",
       "\n",
       "   Andorra  Angola  Anguilla  ...  Uruguay  Uzbekistan  Vanuatu  Vatican  \\\n",
       "0      NaN     NaN       NaN  ...      NaN         NaN      NaN      NaN   \n",
       "\n",
       "   Venezuela  Vietnam  Wallis and Futuna  Yemen  Zambia  Zimbabwe  \n",
       "0        NaN      NaN                NaN    NaN     NaN       NaN  \n",
       "\n",
       "[1 rows x 248 columns]"
      ]
     },
     "execution_count": 10,
     "metadata": {},
     "output_type": "execute_result"
    }
   ],
   "source": [
    "#Summary: \n",
    "\n",
    "df_total_deaths_per_million = pd.read_csv(\"total_deaths_per_million.csv\")\n",
    "df_total_deaths_per_million.head(1)"
   ]
  },
  {
   "cell_type": "markdown",
   "id": "774645b9-091f-4148-9dfb-07d5c406242f",
   "metadata": {},
   "source": [
    "#### worldometer_data ####"
   ]
  },
  {
   "cell_type": "code",
   "execution_count": 11,
   "id": "0c6fd6b6-f7c4-40ed-92eb-cfd359d135c4",
   "metadata": {
    "tags": []
   },
   "outputs": [
    {
     "data": {
      "text/html": [
       "<div>\n",
       "<style scoped>\n",
       "    .dataframe tbody tr th:only-of-type {\n",
       "        vertical-align: middle;\n",
       "    }\n",
       "\n",
       "    .dataframe tbody tr th {\n",
       "        vertical-align: top;\n",
       "    }\n",
       "\n",
       "    .dataframe thead th {\n",
       "        text-align: right;\n",
       "    }\n",
       "</style>\n",
       "<table border=\"1\" class=\"dataframe\">\n",
       "  <thead>\n",
       "    <tr style=\"text-align: right;\">\n",
       "      <th></th>\n",
       "      <th>Unnamed: 0.1</th>\n",
       "      <th>Unnamed: 0</th>\n",
       "      <th>Country_Region</th>\n",
       "      <th>Continent</th>\n",
       "      <th>Population</th>\n",
       "      <th>TotalCases</th>\n",
       "      <th>NewCases</th>\n",
       "      <th>TotalDeaths</th>\n",
       "      <th>NewDeaths</th>\n",
       "      <th>TotalRecovered</th>\n",
       "      <th>NewRecovered</th>\n",
       "      <th>ActiveCases</th>\n",
       "      <th>Serious,Critical</th>\n",
       "      <th>Tot Cases/1M pop</th>\n",
       "      <th>Deaths_Per_Million</th>\n",
       "      <th>TotalTests</th>\n",
       "      <th>Tests/1M pop</th>\n",
       "      <th>WHO Region</th>\n",
       "      <th>Death_Pop_Ratio</th>\n",
       "      <th>Death_Pop_Ratio_Per_Millions</th>\n",
       "    </tr>\n",
       "  </thead>\n",
       "  <tbody>\n",
       "    <tr>\n",
       "      <th>0</th>\n",
       "      <td>0</td>\n",
       "      <td>0</td>\n",
       "      <td>USA</td>\n",
       "      <td>North America</td>\n",
       "      <td>331198130.0</td>\n",
       "      <td>5032179</td>\n",
       "      <td>NaN</td>\n",
       "      <td>162804.0</td>\n",
       "      <td>NaN</td>\n",
       "      <td>2576668.0</td>\n",
       "      <td>NaN</td>\n",
       "      <td>2292707.0</td>\n",
       "      <td>18296.0</td>\n",
       "      <td>15194.0</td>\n",
       "      <td>492.0</td>\n",
       "      <td>63139605.0</td>\n",
       "      <td>190640.0</td>\n",
       "      <td>Americas</td>\n",
       "      <td>491.560746</td>\n",
       "      <td>491.560746</td>\n",
       "    </tr>\n",
       "  </tbody>\n",
       "</table>\n",
       "</div>"
      ],
      "text/plain": [
       "   Unnamed: 0.1  Unnamed: 0 Country_Region      Continent   Population  \\\n",
       "0             0           0            USA  North America  331198130.0   \n",
       "\n",
       "   TotalCases  NewCases  TotalDeaths  NewDeaths  TotalRecovered  NewRecovered  \\\n",
       "0     5032179       NaN     162804.0        NaN       2576668.0           NaN   \n",
       "\n",
       "   ActiveCases  Serious,Critical  Tot Cases/1M pop  Deaths_Per_Million  \\\n",
       "0    2292707.0           18296.0           15194.0               492.0   \n",
       "\n",
       "   TotalTests  Tests/1M pop WHO Region  Death_Pop_Ratio  \\\n",
       "0  63139605.0      190640.0   Americas       491.560746   \n",
       "\n",
       "   Death_Pop_Ratio_Per_Millions  \n",
       "0                    491.560746  "
      ]
     },
     "execution_count": 11,
     "metadata": {},
     "output_type": "execute_result"
    }
   ],
   "source": [
    "#Summary: \n",
    "\n",
    "df_worldometer_data = pd.read_csv(\"worldometer_data.csv\")\n",
    "df_worldometer_data.head(1)"
   ]
  },
  {
   "cell_type": "markdown",
   "id": "71a6cc3f-44b5-48cd-bd23-2433c80085ef",
   "metadata": {},
   "source": [
    "####  ####"
   ]
  },
  {
   "cell_type": "code",
   "execution_count": null,
   "id": "3fe87b65-70b6-4f2d-af4f-a18c766aab09",
   "metadata": {},
   "outputs": [],
   "source": [
    "#Summary: \n",
    "\n",
    "df = pd.read_csv(\".csv\")\n",
    "df.head(1)"
   ]
  }
 ],
 "metadata": {
  "kernelspec": {
   "display_name": "Python 3 (ipykernel)",
   "language": "python",
   "name": "python3"
  },
  "language_info": {
   "codemirror_mode": {
    "name": "ipython",
    "version": 3
   },
   "file_extension": ".py",
   "mimetype": "text/x-python",
   "name": "python",
   "nbconvert_exporter": "python",
   "pygments_lexer": "ipython3",
   "version": "3.11.5"
  }
 },
 "nbformat": 4,
 "nbformat_minor": 5
}
